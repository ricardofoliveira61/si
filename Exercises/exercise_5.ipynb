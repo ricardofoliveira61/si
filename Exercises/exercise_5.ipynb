{
 "cells": [
  {
   "cell_type": "markdown",
   "metadata": {},
   "source": [
    "# PCA\n",
    "\n",
    "## 5.2) Test the PCA class using the iris.csv dataset"
   ]
  },
  {
   "cell_type": "code",
   "execution_count": 1,
   "metadata": {},
   "outputs": [],
   "source": [
    "from si.io.csv_file import read_csv\n",
    "from si.decomposition.pca import PCA as PCA\n",
    "import pandas as pd"
   ]
  },
  {
   "cell_type": "code",
   "execution_count": 2,
   "metadata": {},
   "outputs": [],
   "source": [
    "iris = read_csv(\"../datasets/iris/iris.csv\",features=True, label=True)"
   ]
  },
  {
   "cell_type": "code",
   "execution_count": 3,
   "metadata": {},
   "outputs": [
    {
     "name": "stdout",
     "output_type": "stream",
     "text": [
      "Label name: class\n",
      "Dataset has label? True\n",
      "Label classes: ['Iris-setosa' 'Iris-versicolor' 'Iris-virginica']\n"
     ]
    },
    {
     "data": {
      "text/plain": [
       "(150, 4)"
      ]
     },
     "execution_count": 3,
     "metadata": {},
     "output_type": "execute_result"
    }
   ],
   "source": [
    "print(\"Label name:\", iris.label)\n",
    "print(\"Dataset has label?\",iris.has_label())\n",
    "print(\"Label classes:\",iris.get_classes())\n",
    "iris.shape()\n"
   ]
  },
  {
   "cell_type": "code",
   "execution_count": 4,
   "metadata": {},
   "outputs": [
    {
     "data": {
      "text/plain": [
       "<si.decomposition.pca.PCA at 0x7f651f36a000>"
      ]
     },
     "execution_count": 4,
     "metadata": {},
     "output_type": "execute_result"
    }
   ],
   "source": [
    "# fiting the dataset\n",
    "iris_pca = PCA(n_components=2)\n",
    "iris_pca.fit(iris)"
   ]
  },
  {
   "cell_type": "code",
   "execution_count": 5,
   "metadata": {},
   "outputs": [
    {
     "data": {
      "text/plain": [
       "array([[ 0.36158968, -0.08226889,  0.85657211,  0.35884393],\n",
       "       [-0.65653988, -0.72971237,  0.1757674 ,  0.07470647]])"
      ]
     },
     "execution_count": 5,
     "metadata": {},
     "output_type": "execute_result"
    }
   ],
   "source": [
    "# each row corresponds to a principal component\n",
    "iris_pca.components"
   ]
  },
  {
   "cell_type": "code",
   "execution_count": 6,
   "metadata": {},
   "outputs": [
    {
     "data": {
      "text/plain": [
       "array([0.92461621, 0.05301557])"
      ]
     },
     "execution_count": 6,
     "metadata": {},
     "output_type": "execute_result"
    }
   ],
   "source": [
    "# explained variance ratio of each principal component\n",
    "iris_pca.explained_variance"
   ]
  },
  {
   "cell_type": "code",
   "execution_count": 7,
   "metadata": {},
   "outputs": [
    {
     "data": {
      "text/plain": [
       "array([[ 0.68569351, -0.03926846,  1.27368233,  0.5169038 ],\n",
       "       [-0.03926846,  0.18800403, -0.32171275, -0.11798121],\n",
       "       [ 1.27368233, -0.32171275,  3.11317942,  1.29638747],\n",
       "       [ 0.5169038 , -0.11798121,  1.29638747,  0.58241432]])"
      ]
     },
     "execution_count": 7,
     "metadata": {},
     "output_type": "execute_result"
    }
   ],
   "source": [
    "# covariance matrix of the dataset\n",
    "iris_pca.get_covariance()"
   ]
  },
  {
   "cell_type": "code",
   "execution_count": 8,
   "metadata": {},
   "outputs": [
    {
     "data": {
      "text/plain": [
       "array([5.84333333, 3.054     , 3.75866667, 1.19866667])"
      ]
     },
     "execution_count": 8,
     "metadata": {},
     "output_type": "execute_result"
    }
   ],
   "source": [
    "# means of each feature\n",
    "iris_pca.mean"
   ]
  },
  {
   "cell_type": "code",
   "execution_count": 9,
   "metadata": {},
   "outputs": [],
   "source": [
    "# transforming the dataset to the new principal components\n",
    "iris_transformed = iris_pca.transform(iris)"
   ]
  },
  {
   "cell_type": "code",
   "execution_count": 10,
   "metadata": {},
   "outputs": [
    {
     "data": {
      "text/plain": [
       "(150, 2)"
      ]
     },
     "execution_count": 10,
     "metadata": {},
     "output_type": "execute_result"
    }
   ],
   "source": [
    "# shape of the transformed dataset\n",
    "iris_transformed.shape()"
   ]
  },
  {
   "cell_type": "code",
   "execution_count": 11,
   "metadata": {},
   "outputs": [
    {
     "data": {
      "text/plain": [
       "array([[-8.19555022,  4.98811642],\n",
       "       [-8.22673371,  5.48428058],\n",
       "       [-8.40116264,  5.45206934],\n",
       "       [-8.2577803 ,  5.62584805],\n",
       "       [-8.23993608,  4.98079917],\n",
       "       [-7.79124046,  4.56694102],\n",
       "       [-8.33223378,  5.39682824],\n",
       "       [-8.13782509,  5.14431838],\n",
       "       [-8.39930166,  5.88552176],\n",
       "       [-8.18518778,  5.42141543],\n",
       "       [-8.01786989,  4.66278872],\n",
       "       [-8.12448582,  5.2932031 ],\n",
       "       [-8.29877707,  5.54246392],\n",
       "       [-8.73654354,  5.81800364],\n",
       "       [-8.15488631,  4.12852883],\n",
       "       [-7.89521242,  3.96996939],\n",
       "       [-8.1338693 ,  4.49663406],\n",
       "       [-8.15966583,  4.99558706],\n",
       "       [-7.71042106,  4.43547964],\n",
       "       [-8.09868929,  4.79425009],\n",
       "       [-7.8218748 ,  4.91685591],\n",
       "       [-8.05457801,  4.87469198],\n",
       "       [-8.72720079,  5.17310816],\n",
       "       [-7.81447164,  5.20920105],\n",
       "       [-7.86751418,  5.34593332],\n",
       "       [-8.01926032,  5.45378007],\n",
       "       [-7.9803991 ,  5.17683642],\n",
       "       [-8.07373404,  4.94003917],\n",
       "       [-8.15116437,  4.99543366],\n",
       "       [-8.14419101,  5.50479956],\n",
       "       [-8.09980515,  5.51211681],\n",
       "       [-7.92142043,  4.89664372],\n",
       "       [-8.15897977,  4.4947411 ],\n",
       "       [-8.10850257,  4.2147018 ],\n",
       "       [-8.18518778,  5.42141543],\n",
       "       [-8.37834294,  5.23753064],\n",
       "       [-8.13657156,  4.70792372],\n",
       "       [-8.18518778,  5.42141543],\n",
       "       [-8.49318576,  5.79497378],\n",
       "       [-8.10166612,  5.07866439],\n",
       "       [-8.28148201,  5.04366431],\n",
       "       [-8.36355418,  6.2475891 ],\n",
       "       [-8.50963954,  5.64903131],\n",
       "       [-7.9168572 ,  5.11880647],\n",
       "       [-7.72017605,  4.8720277 ],\n",
       "       [-8.22700829,  5.55740521],\n",
       "       [-8.04891647,  4.80435619],\n",
       "       [-8.35166439,  5.53530007],\n",
       "       [-8.05402885,  4.72844271],\n",
       "       [-8.21525541,  5.19971288],\n",
       "       [-4.22654851,  4.62928454],\n",
       "       [-4.57893234,  4.99552564],\n",
       "       [-4.04728178,  4.8105339 ],\n",
       "       [-5.33037589,  6.14032767],\n",
       "       [-4.42420861,  5.23933334],\n",
       "       [-4.87090635,  5.73204721],\n",
       "       [-4.41611939,  5.03083252],\n",
       "       [-6.26281024,  6.31583124],\n",
       "       [-4.46804532,  5.08576682],\n",
       "       [-5.52153317,  6.0352986 ],\n",
       "       [-6.02242929,  6.57721568],\n",
       "       [-5.00024504,  5.41700784],\n",
       "       [-5.24900734,  5.86261703],\n",
       "       [-4.52729855,  5.43908415],\n",
       "       [-5.6862071 ,  5.5665393 ],\n",
       "       [-4.58377016,  4.84648753],\n",
       "       [-4.85175031,  5.66670002],\n",
       "       [-5.27680251,  5.64664556],\n",
       "       [-4.56898139,  5.85654599],\n",
       "       [-5.4680967 ,  5.89621318],\n",
       "       [-4.39510237,  5.39893774],\n",
       "       [-5.15455653,  5.38154756],\n",
       "       [-4.21487425,  5.64228525],\n",
       "       [-4.59084045,  5.49711409],\n",
       "       [-4.79733488,  5.16434458],\n",
       "       [-4.61170223,  4.98511275],\n",
       "       [-4.18030168,  5.07005421],\n",
       "       [-3.95394683,  5.04733115],\n",
       "       [-4.69888755,  5.47705531],\n",
       "       [-5.81867785,  5.67981034],\n",
       "       [-5.58168599,  6.01726166],\n",
       "       [-5.70322759,  5.99221428],\n",
       "       [-5.37634815,  5.62643337],\n",
       "       [-4.13260612,  5.73592887],\n",
       "       [-4.92406824,  5.798008  ],\n",
       "       [-4.7041376 ,  5.11966977],\n",
       "       [-4.29091413,  4.90668839],\n",
       "       [-4.69847531,  5.68540273],\n",
       "       [-5.26614794,  5.58145177],\n",
       "       [-5.34682967,  5.9943852 ],\n",
       "       [-5.04831211,  5.98425028],\n",
       "       [-4.62118265,  5.34853617],\n",
       "       [-5.28246405,  5.71698135],\n",
       "       [-6.21842438,  6.32314849],\n",
       "       [-5.15581006,  5.81794222],\n",
       "       [-5.18021615,  5.52590387],\n",
       "       [-5.13610487,  5.60634576],\n",
       "       [-4.86965282,  5.29565255],\n",
       "       [-6.41980643,  6.06629246],\n",
       "       [-5.21353519,  5.66174025],\n",
       "       [-2.97961612,  5.32656597],\n",
       "       [-4.09727087,  5.88964879],\n",
       "       [-2.89485849,  4.97278844],\n",
       "       [-3.54052815,  5.49584943],\n",
       "       [-3.16158511,  5.35660628],\n",
       "       [-2.11446318,  4.76755568],\n",
       "       [-4.99195985,  6.50607542],\n",
       "       [-2.579338  ,  4.96234672],\n",
       "       [-3.1916703 ,  5.5602719 ],\n",
       "       [-2.59320886,  4.5343431 ],\n",
       "       [-3.84940815,  5.07268533],\n",
       "       [-3.70900265,  5.53087834],\n",
       "       [-3.34596423,  5.09944345],\n",
       "       [-4.16674888,  6.09113916],\n",
       "       [-3.9260758 ,  5.85403078],\n",
       "       [-3.60659952,  5.19590474],\n",
       "       [-3.56209432,  5.27399347],\n",
       "       [-2.02257772,  4.14317919],\n",
       "       [-1.71665624,  5.06145816],\n",
       "       [-4.21301327,  6.07573767],\n",
       "       [-3.08317584,  4.93794176],\n",
       "       [-4.31324573,  5.92030269],\n",
       "       [-2.01207761,  4.85795026],\n",
       "       [-4.12367485,  5.51875472],\n",
       "       [-3.23548945,  4.98133721],\n",
       "       [-2.89714927,  4.75635678],\n",
       "       [-4.25371791,  5.49386073],\n",
       "       [-4.22067345,  5.43114898],\n",
       "       [-3.38848912,  5.52557862],\n",
       "       [-3.1237787 ,  4.85220448],\n",
       "       [-2.67038217,  4.94198114],\n",
       "       [-2.2790002 ,  3.94419969],\n",
       "       [-3.35260472,  5.53304926],\n",
       "       [-4.06824049,  5.45852502],\n",
       "       [-3.73170299,  5.81618853],\n",
       "       [-2.43482148,  4.62895929],\n",
       "       [-3.36635624,  5.17581712],\n",
       "       [-3.60648017,  5.26667622],\n",
       "       [-4.34248963,  5.47922623],\n",
       "       [-3.40368937,  4.94324148],\n",
       "       [-3.1970397 ,  5.13211488],\n",
       "       [-3.58889221,  4.90545255],\n",
       "       [-4.09727087,  5.88964879],\n",
       "       [-2.94802039,  5.03874923],\n",
       "       [-3.09195188,  5.01121979],\n",
       "       [-3.56732605,  5.12730851],\n",
       "       [-3.98567947,  5.68974458],\n",
       "       [-3.74729716,  5.23620454],\n",
       "       [-3.60971402,  5.19884698],\n",
       "       [-4.12167696,  5.59761044]])"
      ]
     },
     "execution_count": 11,
     "metadata": {},
     "output_type": "execute_result"
    }
   ],
   "source": [
    "iris_transformed.X"
   ]
  },
  {
   "cell_type": "code",
   "execution_count": 12,
   "metadata": {},
   "outputs": [
    {
     "name": "stdout",
     "output_type": "stream",
     "text": [
      "Principal Component PC1: Explained Variance: 0.9246162071742684\n",
      "Principal Component PC2: Explained Variance: 0.05301556785053503\n"
     ]
    }
   ],
   "source": [
    "for pc, explained_variance in zip(iris_transformed.features, iris_pca.explained_variance):\n",
    "    print(f\"Principal Component {pc}: Explained Variance: {explained_variance}\")"
   ]
  }
 ],
 "metadata": {
  "kernelspec": {
   "display_name": "si",
   "language": "python",
   "name": "python3"
  },
  "language_info": {
   "codemirror_mode": {
    "name": "ipython",
    "version": 3
   },
   "file_extension": ".py",
   "mimetype": "text/x-python",
   "name": "python",
   "nbconvert_exporter": "python",
   "pygments_lexer": "ipython3",
   "version": "3.12.7"
  }
 },
 "nbformat": 4,
 "nbformat_minor": 2
}
