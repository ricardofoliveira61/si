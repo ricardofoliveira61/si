{
 "cells": [
  {
   "cell_type": "markdown",
   "metadata": {},
   "source": [
    "# 6.2) Test the \"stratified_train_test_split\" function with the iris dataset."
   ]
  },
  {
   "cell_type": "code",
   "execution_count": 1,
   "metadata": {},
   "outputs": [],
   "source": [
    "from si.io.csv_file import read_csv\n",
    "import numpy as np\n",
    "from si.model_selection.split import stratified_train_test_split"
   ]
  },
  {
   "cell_type": "code",
   "execution_count": 2,
   "metadata": {},
   "outputs": [],
   "source": [
    "iris = read_csv(\"../datasets/iris/iris.csv\",features=True, label=True)\n",
    "unique_labels, labels_counts = np.unique(iris.y,return_counts=True)"
   ]
  },
  {
   "cell_type": "code",
   "execution_count": 3,
   "metadata": {},
   "outputs": [
    {
     "name": "stdout",
     "output_type": "stream",
     "text": [
      "Iris-setosa: 33.33%\n",
      "Iris-versicolor: 33.33%\n",
      "Iris-virginica: 33.33%\n"
     ]
    }
   ],
   "source": [
    "total = np.sum(labels_counts)\n",
    "proportions = labels_counts / total *100\n",
    "\n",
    "for label,proportion in zip(unique_labels, proportions):\n",
    "    print(f\"{label}: {proportion:.2f}%\")"
   ]
  },
  {
   "cell_type": "code",
   "execution_count": 4,
   "metadata": {},
   "outputs": [],
   "source": [
    "train_dataset, test_dataset = stratified_train_test_split(iris, test_size=0.2, random_state=42)"
   ]
  },
  {
   "cell_type": "code",
   "execution_count": 5,
   "metadata": {},
   "outputs": [],
   "source": [
    "labels_train,counts_train = np.unique(train_dataset.y,return_counts=True)\n",
    "labels_test,counts_test= np.unique(test_dataset.y,return_counts=True)\n",
    "total_train = np.sum(counts_train)\n",
    "total_test = np.sum(counts_test)\n",
    "proportions_train = counts_train / total_train *100\n",
    "proportions_test = counts_test / total_test *100"
   ]
  },
  {
   "cell_type": "code",
   "execution_count": 6,
   "metadata": {},
   "outputs": [
    {
     "name": "stdout",
     "output_type": "stream",
     "text": [
      "Iris-setosa: 33.33%\n",
      "Iris-versicolor: 33.33%\n",
      "Iris-virginica: 33.33%\n"
     ]
    }
   ],
   "source": [
    "for label, proportion in zip(labels_train, proportions_train):\n",
    "    print(f\"{label}: {proportion:.2f}%\")"
   ]
  },
  {
   "cell_type": "code",
   "execution_count": 7,
   "metadata": {},
   "outputs": [
    {
     "name": "stdout",
     "output_type": "stream",
     "text": [
      "Iris-setosa: 33.33%\n",
      "Iris-versicolor: 33.33%\n",
      "Iris-virginica: 33.33%\n"
     ]
    }
   ],
   "source": [
    "for label, proportion in zip(labels_test, proportions_test):\n",
    "    print(f\"{label}: {proportion:.2f}%\")"
   ]
  },
  {
   "cell_type": "code",
   "execution_count": 8,
   "metadata": {},
   "outputs": [
    {
     "data": {
      "text/plain": [
       "(120, 4)"
      ]
     },
     "execution_count": 8,
     "metadata": {},
     "output_type": "execute_result"
    }
   ],
   "source": [
    "train_dataset.shape()"
   ]
  },
  {
   "cell_type": "code",
   "execution_count": 9,
   "metadata": {},
   "outputs": [
    {
     "data": {
      "text/plain": [
       "(30, 4)"
      ]
     },
     "execution_count": 9,
     "metadata": {},
     "output_type": "execute_result"
    }
   ],
   "source": [
    "test_dataset.shape()"
   ]
  }
 ],
 "metadata": {
  "kernelspec": {
   "display_name": "si",
   "language": "python",
   "name": "python3"
  },
  "language_info": {
   "codemirror_mode": {
    "name": "ipython",
    "version": 3
   },
   "file_extension": ".py",
   "mimetype": "text/x-python",
   "name": "python",
   "nbconvert_exporter": "python",
   "pygments_lexer": "ipython3",
   "version": "3.12.7"
  }
 },
 "nbformat": 4,
 "nbformat_minor": 2
}
